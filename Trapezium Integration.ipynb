{
 "cells": [
  {
   "cell_type": "markdown",
   "metadata": {},
   "source": [
    "# IL027 Computer Modelling for All\n",
    "\n",
    "## Topic 3: Numerical Integration\n",
    "\n",
    "#### by Harry Cai, Ng Jun Meng, David Williams and Nisreen Chahid \n"
   ]
  },
  {
   "cell_type": "markdown",
   "metadata": {},
   "source": [
    "#### The Trapezium Rule"
   ]
  },
  {
   "cell_type": "code",
   "execution_count": 54,
   "metadata": {},
   "outputs": [],
   "source": [
    "using Base.Test\n",
    "using Plots"
   ]
  },
  {
   "cell_type": "code",
   "execution_count": 55,
   "metadata": {},
   "outputs": [],
   "source": [
    "function Trapezium(f, a, b, n)\n",
    "    h=b-a/n\n",
    "    s=0.5*(f(a)+f(b))\n",
    "    for i in [1:n]\n",
    "        s += f(a + i*h)\n",
    "    end\n",
    "    return h*s\n",
    "end\n",
    "\n",
   ]
  },
  {
   "cell_type": "code",
   "execution_count": null,
   "metadata": {},
   "outputs": [],
   "source": []
  }
 ],
 "metadata": {
  "kernelspec": {
   "display_name": "Julia 0.6.2",
   "language": "julia",
   "name": "julia-0.6"
  },
  "language_info": {
   "file_extension": ".jl",
   "mimetype": "application/julia",
   "name": "julia",
   "version": "0.6.2"
  }
 },
 "nbformat": 4,
 "nbformat_minor": 2
}
