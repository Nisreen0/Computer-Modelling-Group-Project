{
 "cells": [
  {
   "cell_type": "markdown",
   "metadata": {},
   "source": [
    "# IL027 Computer Modelling for All\n",
    "\n",
    "## Topic 3: Numerical Integration\n",
    "\n",
    "#### by Harry Cai, Ng Jun Meng, David Williams and Nisreen Chahid \n"
   ]
  },
  {
   "cell_type": "markdown",
   "metadata": {},
   "source": [
    "#### The Trapezium Rule\n",
    "\n",
    "It is one of the simplest ways to approximate integrals. It works by approximating the region under the graph of the function as a series of trapezium and calculating the sum of the areas of each trapezium.\n",
    "\n",
    "The trapeziums are constructed by dividing the area under the curve into *n* strips, each with a width of *h*. The top of each strip are joined with straight lines.\n",
    "\n",
    "The function was written using the following equation:\n",
    "\n",
    "<img src=\"Trapezium rule.PNG\">\n",
    "\n"
   ]
  },
  {
   "cell_type": "code",
   "execution_count": 21,
   "metadata": {},
   "outputs": [],
   "source": [
    "using Base.Test\n",
    "using Plots"
   ]
  },
  {
   "cell_type": "code",
   "execution_count": 22,
   "metadata": {},
   "outputs": [
    {
     "data": {
      "text/plain": [
       "myIntMethod (generic function with 1 method)"
      ]
     },
     "execution_count": 22,
     "metadata": {},
     "output_type": "execute_result"
    }
   ],
   "source": [
    "function Trapezium(f, a, b, n)\n",
    "    h=(b-a)/n\n",
    "    s = 0\n",
    "    for i in 1:n\n",
    "        s += 0.5 * (f(a + (i-1)*h) + f(a + i*h))\n",
    "    end\n",
    "    return h*s\n",
    "end\n",
    "\n",
    "myIntMethod(f, a, b, n) = Trapezium(f, a, b, n)"
   ]
  },
  {
   "cell_type": "code",
   "execution_count": 23,
   "metadata": {},
   "outputs": [
    {
     "data": {
      "text/plain": [
       "\u001b[1m\u001b[32mTest Passed\u001b[39m\u001b[22m"
      ]
     },
     "execution_count": 23,
     "metadata": {},
     "output_type": "execute_result"
    }
   ],
   "source": [
    "f(x) = sin(100*x);\n",
    "n = 1000000;\n",
    "@test abs( myIntMethod(f, 0, 1, n) - 0.0013768 ) < 0.0001"
   ]
  },
  {
   "cell_type": "code",
   "execution_count": null,
   "metadata": {},
   "outputs": [],
   "source": []
  }
 ],
 "metadata": {
  "kernelspec": {
   "display_name": "Julia 0.6.2",
   "language": "julia",
   "name": "julia-0.6"
  },
  "language_info": {
   "file_extension": ".jl",
   "mimetype": "application/julia",
   "name": "julia",
   "version": "0.6.2"
  }
 },
 "nbformat": 4,
 "nbformat_minor": 2
}
