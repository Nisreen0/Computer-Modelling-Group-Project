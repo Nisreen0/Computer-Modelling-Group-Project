{
 "cells": [
  {
   "cell_type": "markdown",
   "metadata": {},
   "source": [
    "# IL027 Computer Modelling for All\n",
    "\n",
    "## Topic 3: Numerical Integration // \"TITLE OF PROJECT\"\n",
    "\n",
    "#### by Harry Cai, Ng Jun Meng, David Williams and Nisreen Chahid \n",
    "\n",
    "Insert text here!!\n",
    "\n",
    "Methods of numerical integration:\n",
    "* Monte Carlo\n",
    "* Trapezium\n",
    "* Something else"
   ]
  },
  {
   "cell_type": "code",
   "execution_count": null,
   "metadata": {},
   "outputs": [],
   "source": []
  }
 ],
 "metadata": {
  "kernelspec": {
   "display_name": "Julia 0.6.2",
   "language": "julia",
   "name": "julia-0.6"
  },
  "language_info": {
   "file_extension": ".jl",
   "mimetype": "application/julia",
   "name": "julia",
   "version": "0.6.2"
  }
 },
 "nbformat": 4,
 "nbformat_minor": 2
}
